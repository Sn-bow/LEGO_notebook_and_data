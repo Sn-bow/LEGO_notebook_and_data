{
  "cells": [
    {
      "attachments": {},
      "cell_type": "markdown",
      "metadata": {
        "colab_type": "text",
        "dc": {
          "key": "1d0b086e6c"
        },
        "id": "s9JLDE8NIquP",
        "run_control": {
          "frozen": true
        },
        "tags": [
          "context"
        ]
      },
      "source": [
        "# Introduction\n",
        "\n",
        "Today we'll dive deep into a dataset all about LEGO. From the dataset we can ask whole bunch of interesting questions about the history of the LEGO company, their product offering, and which LEGO set ultimately rules them all:\n",
        "\n",
        "<ul type=\"square\">\n",
        "<li>What is the most enormous LEGO set ever created and how many parts did it have?</li>\n",
        "\n",
        "<li>How did the LEGO company start out? In which year were the first LEGO sets released and how many sets did the company sell when it first launched?</li>\n",
        "\n",
        "<li>Which LEGO theme has the most sets? Is it one of LEGO's own themes like Ninjago or a theme they licensed liked Harry Potter or Marvel Superheroes?</li>\n",
        "\n",
        "<li>When did the LEGO company really expand its product offering? Can we spot a change in the company strategy based on how many themes and sets did it released year-on-year?</li>\n",
        "\n",
        "<li>Did LEGO sets grow in size and complexity over time? Do older LEGO \n",
        "sets tend to have more or fewer parts than newer sets?</li>\n",
        "</ul>\n",
        "\n",
        "**Data Source**\n",
        "\n",
        "[Rebrickable](https://rebrickable.com/downloads/) has compiled data on all the LEGO pieces in existence. I recommend you use download the .csv files provided in this lesson. "
      ]
    },
    {
      "attachments": {},
      "cell_type": "markdown",
      "metadata": {},
      "source": [
        "<img src=\"../static/image/lego_sets.png\" alt=\"a\" />"
      ]
    },
    {
      "attachments": {},
      "cell_type": "markdown",
      "metadata": {
        "colab_type": "text",
        "id": "V0u2lGJuIquQ"
      },
      "source": [
        "# Import Statements"
      ]
    },
    {
      "cell_type": "code",
      "execution_count": null,
      "metadata": {
        "colab": {},
        "colab_type": "code",
        "id": "z5Wk7rs-IquQ"
      },
      "outputs": [],
      "source": []
    },
    {
      "attachments": {},
      "cell_type": "markdown",
      "metadata": {
        "colab_type": "text",
        "id": "R5NQpJ_KIquT"
      },
      "source": [
        "# Data Exploration"
      ]
    },
    {
      "attachments": {},
      "cell_type": "markdown",
      "metadata": {
        "colab_type": "text",
        "dc": {
          "key": "044b2cef41"
        },
        "id": "ffaG-UFYIquT",
        "run_control": {
          "frozen": true
        },
        "tags": [
          "context"
        ]
      },
      "source": [
        "**Challenge**: How many different colours does the LEGO company produce? Read the colors.csv file in the data folder and find the total number of unique colours. Try using the [.nunique() method](https://pandas.pydata.org/pandas-docs/stable/reference/api/pandas.DataFrame.nunique.html?highlight=nunique#pandas.DataFrame.nunique) to accomplish this."
      ]
    },
    {
      "cell_type": "code",
      "execution_count": null,
      "metadata": {
        "colab": {},
        "colab_type": "code",
        "id": "yd4G9pK7IquU"
      },
      "outputs": [],
      "source": []
    },
    {
      "cell_type": "code",
      "execution_count": null,
      "metadata": {
        "colab": {},
        "colab_type": "code",
        "dc": {
          "key": "044b2cef41"
        },
        "id": "QmbAXax7IquW",
        "tags": [
          "sample_code"
        ]
      },
      "outputs": [],
      "source": []
    },
    {
      "cell_type": "code",
      "execution_count": null,
      "metadata": {
        "colab": {},
        "colab_type": "code",
        "dc": {
          "key": "15c1e2ce38"
        },
        "id": "SMc2sKiIIquY",
        "tags": [
          "sample_code"
        ]
      },
      "outputs": [],
      "source": []
    },
    {
      "attachments": {},
      "cell_type": "markdown",
      "metadata": {
        "colab_type": "text",
        "dc": {
          "key": "a5723ae5c2"
        },
        "id": "PItRbqgcIqua",
        "run_control": {
          "frozen": true
        },
        "tags": [
          "context"
        ]
      },
      "source": [
        "**Challenge**: Find the number of transparent colours where <code>is_trans == 't'</code> versus the number of opaque colours where <code>is_trans == 'f'</code>. See if you can accomplish this in two different ways."
      ]
    },
    {
      "cell_type": "code",
      "execution_count": 10,
      "metadata": {
        "colab": {},
        "colab_type": "code",
        "id": "1UZrfq82Iqub"
      },
      "outputs": [
        {
          "name": "stdout",
          "output_type": "stream",
          "text": [
            "           set_num                                 name  year  theme_id  \\\n",
            "0            001-1                                Gears  1965         1   \n",
            "1           0011-2                    Town Mini-Figures  1978        84   \n",
            "2           0011-3           Castle 2 for 1 Bonus Offer  1987       199   \n",
            "3           0012-1                   Space Mini-Figures  1979       143   \n",
            "4           0013-1                   Space Mini-Figures  1979       143   \n",
            "...            ...                                  ...   ...       ...   \n",
            "15705      wwgp1-1  Wild West Limited Edition Gift Pack  1996       476   \n",
            "15706   XMASTREE-1                       Christmas Tree  2019       410   \n",
            "15707      XWING-1                  Mini X-Wing Fighter  2019       158   \n",
            "15708      XWING-2                    X-Wing Trench Run  2019       158   \n",
            "15709  YODACHRON-1      Yoda Chronicles Promotional Set  2013       158   \n",
            "\n",
            "       num_parts  \n",
            "0             43  \n",
            "1             12  \n",
            "2              0  \n",
            "3             12  \n",
            "4             12  \n",
            "...          ...  \n",
            "15705          0  \n",
            "15706         26  \n",
            "15707         60  \n",
            "15708         52  \n",
            "15709        413  \n",
            "\n",
            "[15710 rows x 5 columns]\n",
            "       set_num                               name  year  theme_id  num_parts\n",
            "9521   700.1-1         Extra-Large Gift Set (ABB)  1949       365        142\n",
            "9534   700.2-1               Large Gift Set (ABB)  1949       365        178\n",
            "9539   700.3-1              Medium Gift Set (ABB)  1949       365        142\n",
            "9544   700.A-1              Small Brick Set (ABB)  1949       371         24\n",
            "9545   700.B-1  Small Doors and Windows Set (ABB)  1949       371         12\n",
            "...        ...                                ...   ...       ...        ...\n",
            "11289  75290-1                 Mos Eisley Cantina  2020       158          0\n",
            "5147   41430-1              Summer Fun Water Park  2020       494       1012\n",
            "11337  75550-1             Minions Kung Fu Battle  2021       689          0\n",
            "11335  75547-1           Minion Pilot in Training  2021       689          0\n",
            "11334  75546-1               Minions in Gru’s Lab  2021       689          0\n",
            "\n",
            "[15710 rows x 5 columns]\n",
            "5\n",
            "      set_num                               name  year  theme_id  num_parts\n",
            "9521  700.1-1         Extra-Large Gift Set (ABB)  1949       365        142\n",
            "9534  700.2-1               Large Gift Set (ABB)  1949       365        178\n",
            "9539  700.3-1              Medium Gift Set (ABB)  1949       365        142\n",
            "9544  700.A-1              Small Brick Set (ABB)  1949       371         24\n",
            "9545  700.B-1  Small Doors and Windows Set (ABB)  1949       371         12\n",
            "        set_num                           name  year  theme_id  num_parts\n",
            "15004  BIGBOX-1  The Ultimate Battle for Chima  2015       571       9987\n",
            "11183   75192-1          UCS Millennium Falcon  2017       171       7541\n",
            "10551   71043-1                Hogwarts Castle  2018       246       6020\n",
            "295     10256-1                      Taj Mahal  2017       673       5923\n",
            "221     10189-1                      Taj Mahal  2008       673       5922\n",
            "year\n",
            "1949     5\n",
            "1950     6\n",
            "1953     4\n",
            "1954    14\n",
            "1955    28\n",
            "Name: set_num, dtype: int64\n",
            "year\n",
            "2017    786\n",
            "2018    816\n",
            "2019    840\n",
            "2020    674\n",
            "2021      3\n",
            "Name: set_num, dtype: int64\n"
          ]
        },
        {
          "data": {
            "text/plain": [
              "[<matplotlib.lines.Line2D at 0x1690e1410>]"
            ]
          },
          "execution_count": 10,
          "metadata": {},
          "output_type": "execute_result"
        },
        {
          "data": {
            "image/png": "[encoded data removed]",
            "text/plain": [
              "<Figure size 640x480 with 1 Axes>"
            ]
          },
          "metadata": {},
          "output_type": "display_data"
        }
      ],
      "source": [
        "import pandas as pd\n",
        "import matplotlib.pyplot as plt\n",
        "\n",
        "colors_df = pd.read_csv('../data/colors.csv')\n",
        "\n",
        "# 고유한 색상의 총 갯수\n",
        "color_count = colors_df[\"name\"].nunique()\n",
        "\n",
        "#  레고에서 불투명한 색상 대비 투명한 색상이 어느 정도 있는지\n",
        "opaque_count = colors_df.groupby(by=\"is_trans\").count()\n",
        "# .value_counts() 메소드는 데이터프레임의 column(열) 의 갯수가 몆개인지 반환\n",
        "opaque_count_value_counts = colors_df[\"is_trans\"].value_counts()\n",
        "\n",
        "\n",
        "\n",
        "# 레고 sets data frame\n",
        "sets_df = pd.read_csv(\"../data/sets.csv\")\n",
        "print(sets_df)\n",
        "\n",
        "\n",
        "# 최초의 레고 세트가 출시된 연도와 이 세트의 이름은\n",
        "for_the_first_time_set = sets_df.sort_values(\"year\")\n",
        "print(for_the_first_time_set)\n",
        "\n",
        "# 레고는 운영 첫해에 얼마나 많은 제품을 팔았나\n",
        "sell_lego = sets_df[\"year\"].value_counts()[1949]\n",
        "print(sell_lego)\n",
        "# 조건에 따라 데이터를 필터링\n",
        "sell_lego = sets_df[sets_df[\"year\"] == 1949]\n",
        "print(sell_lego)\n",
        "\n",
        "# 부품 수가 가장 많은 상위 5개 레고 세트\n",
        "many_num_parts_five_data = sets_df.sort_values(by=\"num_parts\", ascending=False).head()\n",
        "print(many_num_parts_five_data)\n",
        "\n",
        "\n",
        "\n",
        "# 데이터 시각화\n",
        "\n",
        "# 연도별에 따른 세트수\n",
        "sets_by_year = sets_df.groupby('year').count()\n",
        "print(sets_by_year[\"set_num\"].head())\n",
        "print(sets_by_year[\"set_num\"].tail())\n",
        "\n",
        "# 시각화 sets_by_year.index[:-2], sets_by_year.set_num[:-2]\n",
        "plt.plot(sets_by_year.index[:-2] ,sets_by_year[\"set_num\"][:-2] )"
      ]
    },
    {
      "cell_type": "code",
      "execution_count": 30,
      "metadata": {
        "colab": {},
        "colab_type": "code",
        "id": "KQFf-leCIqud"
      },
      "outputs": [
        {
          "name": "stdout",
          "output_type": "stream",
          "text": [
            "           set_num                                 name  year  theme_id  \\\n",
            "0            001-1                                Gears  1965         1   \n",
            "1           0011-2                    Town Mini-Figures  1978        84   \n",
            "2           0011-3           Castle 2 for 1 Bonus Offer  1987       199   \n",
            "3           0012-1                   Space Mini-Figures  1979       143   \n",
            "4           0013-1                   Space Mini-Figures  1979       143   \n",
            "...            ...                                  ...   ...       ...   \n",
            "15705      wwgp1-1  Wild West Limited Edition Gift Pack  1996       476   \n",
            "15706   XMASTREE-1                       Christmas Tree  2019       410   \n",
            "15707      XWING-1                  Mini X-Wing Fighter  2019       158   \n",
            "15708      XWING-2                    X-Wing Trench Run  2019       158   \n",
            "15709  YODACHRON-1      Yoda Chronicles Promotional Set  2013       158   \n",
            "\n",
            "       num_parts  \n",
            "0             43  \n",
            "1             12  \n",
            "2              0  \n",
            "3             12  \n",
            "4             12  \n",
            "...          ...  \n",
            "15705          0  \n",
            "15706         26  \n",
            "15707         60  \n",
            "15708         52  \n",
            "15709        413  \n",
            "\n",
            "[15710 rows x 5 columns]\n",
            "       set_num                               name  year  theme_id  num_parts\n",
            "9521   700.1-1         Extra-Large Gift Set (ABB)  1949       365        142\n",
            "9534   700.2-1               Large Gift Set (ABB)  1949       365        178\n",
            "9539   700.3-1              Medium Gift Set (ABB)  1949       365        142\n",
            "9544   700.A-1              Small Brick Set (ABB)  1949       371         24\n",
            "9545   700.B-1  Small Doors and Windows Set (ABB)  1949       371         12\n",
            "...        ...                                ...   ...       ...        ...\n",
            "11289  75290-1                 Mos Eisley Cantina  2020       158          0\n",
            "5147   41430-1              Summer Fun Water Park  2020       494       1012\n",
            "11337  75550-1             Minions Kung Fu Battle  2021       689          0\n",
            "11335  75547-1           Minion Pilot in Training  2021       689          0\n",
            "11334  75546-1               Minions in Gru’s Lab  2021       689          0\n",
            "\n",
            "[15710 rows x 5 columns]\n",
            "5\n",
            "      set_num                               name  year  theme_id  num_parts\n",
            "9521  700.1-1         Extra-Large Gift Set (ABB)  1949       365        142\n",
            "9534  700.2-1               Large Gift Set (ABB)  1949       365        178\n",
            "9539  700.3-1              Medium Gift Set (ABB)  1949       365        142\n",
            "9544  700.A-1              Small Brick Set (ABB)  1949       371         24\n",
            "9545  700.B-1  Small Doors and Windows Set (ABB)  1949       371         12\n",
            "        set_num                           name  year  theme_id  num_parts\n",
            "15004  BIGBOX-1  The Ultimate Battle for Chima  2015       571       9987\n",
            "11183   75192-1          UCS Millennium Falcon  2017       171       7541\n",
            "10551   71043-1                Hogwarts Castle  2018       246       6020\n",
            "295     10256-1                      Taj Mahal  2017       673       5923\n",
            "221     10189-1                      Taj Mahal  2008       673       5922\n",
            "year\n",
            "1949     5\n",
            "1950     6\n",
            "1953     4\n",
            "1954    14\n",
            "1955    28\n",
            "Name: set_num, dtype: int64\n",
            "year\n",
            "2017    786\n",
            "2018    816\n",
            "2019    840\n",
            "2020    674\n",
            "2021      3\n",
            "Name: set_num, dtype: int64\n",
            "year\n",
            "1949    367.400000\n",
            "1950    371.000000\n",
            "1953    369.750000\n",
            "1954    371.142857\n",
            "1955    375.678571\n",
            "Name: theme_id, dtype: float64\n",
            "      nr_themes\n",
            "year           \n",
            "1949          2\n",
            "1950          1\n",
            "1953          2\n",
            "1954          2\n",
            "1955          4\n",
            "...         ...\n",
            "2017         89\n",
            "2018         93\n",
            "2019         78\n",
            "2020         82\n",
            "2021          1\n",
            "\n",
            "[71 rows x 1 columns]\n",
            "       num_parts\n",
            "year            \n",
            "1949   99.600000\n",
            "1950    1.000000\n",
            "1953   13.500000\n",
            "1954   12.357143\n",
            "1955   36.607143\n",
            "...          ...\n",
            "2017  221.840967\n",
            "2018  213.618873\n",
            "2019  207.510714\n",
            "2020  259.732938\n",
            "2021    0.000000\n",
            "\n",
            "[71 rows x 1 columns]\n",
            "    id  set_count\n",
            "0  158        753\n",
            "1  501        656\n",
            "2  494        398\n",
            "3  435        356\n",
            "4  503        329\n",
            "      id       name  parent_id\n",
            "17    18  Star Wars        1.0\n",
            "150  158  Star Wars        NaN\n",
            "174  209  Star Wars      207.0\n",
            "211  261  Star Wars      258.0\n",
            "           set_num                                               name  year  \\\n",
            "850        11912-1                Star Wars: Build Your Own Adventure  2016   \n",
            "855        11920-1  Parts for Star Wars Build Your Own Adventure: ...  2019   \n",
            "1717       20006-1                            Clone Turbo Tank - Mini  2008   \n",
            "1728       20007-1                     Republic Attack Cruiser - Mini  2009   \n",
            "1738       20009-1                                AT-TE Walker - Mini  2009   \n",
            "...            ...                                                ...   ...   \n",
            "15686         VP-4            Star Wars Co-Pack of 7101 7111 and 7171  2000   \n",
            "15689         VP-8                 Star Wars Co-Pack of 7130 and 7150  2000   \n",
            "15707      XWING-1                                Mini X-Wing Fighter  2019   \n",
            "15708      XWING-2                                  X-Wing Trench Run  2019   \n",
            "15709  YODACHRON-1                    Yoda Chronicles Promotional Set  2013   \n",
            "\n",
            "       theme_id  num_parts  \n",
            "850         158         73  \n",
            "855         158         70  \n",
            "1717        158         64  \n",
            "1728        158         84  \n",
            "1738        158         94  \n",
            "...         ...        ...  \n",
            "15686       158          0  \n",
            "15689       158          0  \n",
            "15707       158         60  \n",
            "15708       158         52  \n",
            "15709       158        413  \n",
            "\n",
            "[753 rows x 5 columns]\n",
            "      id  set_count           name  parent_id\n",
            "0    158        753      Star Wars        NaN\n",
            "1    501        656           Gear        NaN\n",
            "2    494        398        Friends        NaN\n",
            "3    435        356        Ninjago        NaN\n",
            "4    503        329      Key Chain      501.0\n",
            "..   ...        ...            ...        ...\n",
            "566  307          1       Aquazone        NaN\n",
            "567  215          1        Pirates      207.0\n",
            "568  361          1  Skull Spiders      324.0\n",
            "569  210          1       Belville      207.0\n",
            "570  414          1         Castle      411.0\n",
            "\n",
            "[571 rows x 4 columns]\n"
          ]
        },
        {
          "data": {
            "text/plain": [
              "<BarContainer object of 10 artists>"
            ]
          },
          "execution_count": 30,
          "metadata": {},
          "output_type": "execute_result"
        },
        {
          "data": {
            "image/png": "[encoded data removed]",
            "text/plain": [
              "<Figure size 1400x800 with 1 Axes>"
            ]
          },
          "metadata": {},
          "output_type": "display_data"
        }
      ],
      "source": [
        "import pandas as pd\n",
        "import matplotlib.pyplot as plt\n",
        "\n",
        "colors_df = pd.read_csv('../data/colors.csv')\n",
        "\n",
        "# 고유한 색상의 총 갯수\n",
        "color_count = colors_df[\"name\"].nunique()\n",
        "\n",
        "#  레고에서 불투명한 색상 대비 투명한 색상이 어느 정도 있는지\n",
        "opaque_count = colors_df.groupby(by=\"is_trans\").count()\n",
        "# .value_counts() 메소드는 데이터프레임의 column(열) 의 갯수가 몆개인지 반환\n",
        "opaque_count_value_counts = colors_df[\"is_trans\"].value_counts()\n",
        "\n",
        "\n",
        "\n",
        "# 레고 sets data frame\n",
        "sets_df = pd.read_csv(\"../data/sets.csv\")\n",
        "print(sets_df)\n",
        "\n",
        "\n",
        "# 최초의 레고 세트가 출시된 연도와 이 세트의 이름은\n",
        "for_the_first_time_set = sets_df.sort_values(\"year\")\n",
        "print(for_the_first_time_set)\n",
        "\n",
        "# 레고는 운영 첫해에 얼마나 많은 제품을 팔았나\n",
        "sell_lego = sets_df[\"year\"].value_counts()[1949]\n",
        "print(sell_lego)\n",
        "# 조건에 따라 데이터를 필터링\n",
        "sell_lego = sets_df[sets_df[\"year\"] == 1949]\n",
        "print(sell_lego)\n",
        "\n",
        "# 부품 수가 가장 많은 상위 5개 레고 세트\n",
        "many_num_parts_five_data = sets_df.sort_values(by=\"num_parts\", ascending=False).head()\n",
        "print(many_num_parts_five_data)\n",
        "\n",
        "\n",
        "\n",
        "# 데이터 시각화\n",
        "\n",
        "# 연도별에 따른 세트수\n",
        "sets_by_year = sets_df.groupby('year').count()\n",
        "print(sets_by_year[\"set_num\"].head())\n",
        "print(sets_by_year[\"set_num\"].tail())\n",
        "\n",
        "# 시각화\n",
        "# plt.plot(sets_by_year.index[:-2] ,sets_by_year[\"set_num\"][:-2] )\n",
        "\n",
        "# 연도별 테마수\n",
        "## 연도별 테마수 평균값\n",
        "sets_by_theme_mean = sets_df[[\"year\", \"theme_id\", \"num_parts\"]].groupby(\"year\").mean()\n",
        "print(sets_by_theme_mean[\"theme_id\"].head())\n",
        "## 연도별 테마 총 수 (고유값)\n",
        "sets_by_theme_agg = sets_df.groupby(\"year\").agg({\"theme_id\" : pd.Series.nunique})\n",
        "sets_by_theme_agg.rename(columns={\"theme_id\": \"nr_themes\"}, inplace=True) # column 명 변경\n",
        "print(sets_by_theme_agg)\n",
        "\n",
        "# 연도별로 출시된 테마 수를 선으로 표시 \n",
        "# 데이터세트에 전체 달이 들어간 연도만 포함(1949~2019)\n",
        "# plt.plot(sets_by_theme_agg.index[:-2], sets_by_theme_agg[\"nr_themes\"][:-2])\n",
        "\n",
        "parts_per_set = sets_df.groupby('year').agg({\"num_parts\": pd.Series.mean})\n",
        "print(parts_per_set)\n",
        "\n",
        "\n",
        "\n",
        "# 테마별 시리즈중 가장 많은 갯수를 가지고있는 테마 이름\n",
        "## 기본키 와 외래키 로 연결\n",
        "### 테마 아이디\n",
        "set_theme_count = sets_df[\"theme_id\"].value_counts()\n",
        "set_theme_count = pd.DataFrame({\"id\": set_theme_count.index, \"set_count\": set_theme_count.values})\n",
        "print(set_theme_count.head())\n",
        "\n",
        "### 테마 이름\n",
        "theme_df = pd.read_csv('../data/themes.csv')\n",
        "print(theme_df[theme_df[\"name\"] == \"Star Wars\"])\n",
        "print(sets_df[sets_df[\"theme_id\"] == 158])\n",
        "\n",
        "# 테마당 세트수와 테마 네임 데이터 합병\n",
        "merged_df = pd.merge(set_theme_count, theme_df, on='id')\n",
        "print(merged_df)\n",
        "\n",
        "# 시각화 바 차트\n",
        "plt.figure(figsize=(14,8))\n",
        "plt.xticks(fontsize=14, rotation=45)\n",
        "plt.yticks(fontsize=14)\n",
        "plt.ylabel('Nr of Sets', fontsize=14)\n",
        "plt.xlabel('Theme Name', fontsize=14)\n",
        "plt.bar(merged_df[\"name\"][:10], merged_df[\"set_count\"][:10])\n",
        "\n",
        "\n",
        "\n",
        "\n",
        "## 시각화\n",
        "\n",
        "\n",
        "# ax1 = plt.gca()\n",
        "# ax2 = ax1.twinx()\n",
        "# ax1.plot(sets_by_year.index[:-2] ,sets_by_year[\"set_num\"][:-2], color=\"g\")\n",
        "# ax2.plot(sets_by_theme_agg.index[:-2], sets_by_theme_agg[\"nr_themes\"][:-2], color=\"b\")\n",
        "# plt.scatter(parts_per_set.index[:-2], parts_per_set[\"num_parts\"][:-2])\n",
        "\n",
        "# ### label 설정\n",
        "# ax1.set_xlabel(\"Year\")\n",
        "# ax1.set_ylabel(\"Number of sets by year\", color=\"green\")\n",
        "# ax2.set_ylabel(\"Total number of themes by year (unique value)\", color=\"blue\")"
      ]
    },
    {
      "attachments": {},
      "cell_type": "markdown",
      "metadata": {
        "colab_type": "text",
        "id": "TMqdhUYcusfy"
      },
      "source": [
        "**Challenge**: Change this into an h3 section heading: Understanding LEGO Themes vs. LEGO Sets"
      ]
    },
    {
      "attachments": {},
      "cell_type": "markdown",
      "metadata": {
        "colab_type": "text",
        "id": "y0kxCh63uwOv"
      },
      "source": [
        "Walk into a LEGO store and you will see their products organised by theme. Their themes include Star Wars, Batman, Harry Potter and many more.\n",
        "\n",
        "**Challenge**: Display this image: https://i.imgur.com/aKcwkSx.png"
      ]
    },
    {
      "attachments": {},
      "cell_type": "markdown",
      "metadata": {
        "colab_type": "text",
        "dc": {
          "key": "c9d0e58653"
        },
        "id": "u_xkZUF8Iqug",
        "run_control": {
          "frozen": true
        },
        "tags": [
          "context"
        ]
      },
      "source": [
        "A lego set is a particular box of LEGO or product. Therefore, a single theme typically has many different sets.\n",
        "\n",
        "**Challenge**: Display this image https://i.imgur.com/whB1olq.png "
      ]
    },
    {
      "attachments": {},
      "cell_type": "markdown",
      "metadata": {
        "colab_type": "text",
        "id": "jJTAROe5unkx"
      },
      "source": [
        "The <code>sets.csv</code> data contains a list of sets over the years and the number of parts that each of these sets contained.\n",
        "\n",
        "**Challenge**: Read the sets.csv data and take a look at the first and last couple of rows. "
      ]
    },
    {
      "cell_type": "code",
      "execution_count": null,
      "metadata": {
        "colab": {},
        "colab_type": "code",
        "id": "vGMOv-NRIquh"
      },
      "outputs": [],
      "source": []
    },
    {
      "cell_type": "code",
      "execution_count": null,
      "metadata": {
        "colab": {},
        "colab_type": "code",
        "id": "T3lLFvyZIqui"
      },
      "outputs": [],
      "source": []
    },
    {
      "cell_type": "code",
      "execution_count": null,
      "metadata": {
        "colab": {},
        "colab_type": "code",
        "id": "XprDBmzwIquk"
      },
      "outputs": [],
      "source": []
    },
    {
      "attachments": {},
      "cell_type": "markdown",
      "metadata": {
        "colab_type": "text",
        "id": "ez-UXSMUIqum"
      },
      "source": [
        "**Challenge**: In which year were the first LEGO sets released and what were these sets called?"
      ]
    },
    {
      "cell_type": "code",
      "execution_count": null,
      "metadata": {
        "colab": {},
        "colab_type": "code",
        "id": "s2aL6qrGIqum"
      },
      "outputs": [],
      "source": []
    },
    {
      "attachments": {},
      "cell_type": "markdown",
      "metadata": {
        "colab_type": "text",
        "id": "JJoK3M8TBAVU"
      },
      "source": [
        "**Challenge**: How many different sets did LEGO sell in their first year? How many types of LEGO products were on offer in the year the company started?"
      ]
    },
    {
      "cell_type": "code",
      "execution_count": null,
      "metadata": {
        "colab": {},
        "colab_type": "code",
        "id": "h-Tf1w7IBBg9"
      },
      "outputs": [],
      "source": []
    },
    {
      "attachments": {},
      "cell_type": "markdown",
      "metadata": {
        "colab_type": "text",
        "id": "RJMMYQYqIquo"
      },
      "source": [
        "**Challenge**: Find the top 5 LEGO sets with the most number of parts. "
      ]
    },
    {
      "cell_type": "code",
      "execution_count": null,
      "metadata": {
        "colab": {},
        "colab_type": "code",
        "id": "toJvjRuQIqup"
      },
      "outputs": [],
      "source": []
    },
    {
      "attachments": {},
      "cell_type": "markdown",
      "metadata": {
        "colab_type": "text",
        "id": "uSyhOzAHIqur"
      },
      "source": [
        "**Challenge**: Use <code>.groupby()</code> and <code>.count()</code> to show the number of LEGO sets released year-on-year. How do the number of sets released in 1955 compare to the number of sets released in 2019? "
      ]
    },
    {
      "cell_type": "code",
      "execution_count": null,
      "metadata": {
        "colab": {},
        "colab_type": "code",
        "id": "qjdrktZAIqus",
        "scrolled": true
      },
      "outputs": [],
      "source": []
    },
    {
      "cell_type": "code",
      "execution_count": null,
      "metadata": {
        "colab": {},
        "colab_type": "code",
        "id": "tFInsHOkIqut"
      },
      "outputs": [],
      "source": []
    },
    {
      "attachments": {},
      "cell_type": "markdown",
      "metadata": {
        "colab_type": "text",
        "id": "xJrmIOULIquv"
      },
      "source": [
        "**Challenge**: Show the number of LEGO releases on a line chart using Matplotlib. <br>\n",
        "<br>\n",
        "Note that the .csv file is from late 2020, so to plot the full calendar years, you will have to exclude some data from your chart. Can you use the slicing techniques covered in Day 21 to avoid plotting the last two years? The same syntax will work on Pandas DataFrames. "
      ]
    },
    {
      "cell_type": "code",
      "execution_count": null,
      "metadata": {
        "colab": {},
        "colab_type": "code",
        "id": "Nckj4lSGIquw"
      },
      "outputs": [],
      "source": []
    },
    {
      "cell_type": "code",
      "execution_count": null,
      "metadata": {
        "colab": {},
        "colab_type": "code",
        "id": "_ZqAN-5MIquz"
      },
      "outputs": [],
      "source": []
    },
    {
      "attachments": {},
      "cell_type": "markdown",
      "metadata": {
        "colab_type": "text",
        "id": "xrDeNYYXIqu1"
      },
      "source": [
        "### Aggregate Data with the Python .agg() Function\n",
        "\n",
        "Let's work out the number of different themes shipped by year. This means we have to count the number of unique theme_ids per calendar year."
      ]
    },
    {
      "cell_type": "code",
      "execution_count": null,
      "metadata": {
        "colab": {},
        "colab_type": "code",
        "dc": {
          "key": "266a3f390c"
        },
        "id": "qx8pTau4Iqu2",
        "tags": [
          "sample_code"
        ]
      },
      "outputs": [],
      "source": []
    },
    {
      "cell_type": "code",
      "execution_count": null,
      "metadata": {
        "colab": {},
        "colab_type": "code",
        "id": "BqF1o997Iqu3"
      },
      "outputs": [],
      "source": []
    },
    {
      "attachments": {},
      "cell_type": "markdown",
      "metadata": {
        "colab_type": "text",
        "id": "immCqqw1Iqu5"
      },
      "source": [
        "**Challenge**: Plot the number of themes released by year on a line chart. Only include the full calendar years (i.e., exclude 2020 and 2021). "
      ]
    },
    {
      "cell_type": "code",
      "execution_count": null,
      "metadata": {
        "colab": {},
        "colab_type": "code",
        "id": "r2pamQEkIqu5"
      },
      "outputs": [],
      "source": []
    },
    {
      "attachments": {},
      "cell_type": "markdown",
      "metadata": {
        "colab_type": "text",
        "id": "uBbt9-lJIqu7"
      },
      "source": [
        "### Line Charts with Two Seperate Axes"
      ]
    },
    {
      "cell_type": "code",
      "execution_count": null,
      "metadata": {
        "colab": {},
        "colab_type": "code",
        "id": "j7lQ_amFIqu7"
      },
      "outputs": [],
      "source": []
    },
    {
      "attachments": {},
      "cell_type": "markdown",
      "metadata": {
        "colab_type": "text",
        "id": "7BHYaUf-Iqu9"
      },
      "source": [
        "**Challenge**: Use the <code>.groupby()</code> and <code>.agg()</code> function together to figure out the average number of parts per set. How many parts did the average LEGO set released in 1954 compared to say, 2017?"
      ]
    },
    {
      "cell_type": "code",
      "execution_count": null,
      "metadata": {
        "colab": {},
        "colab_type": "code",
        "id": "W7BcH9vuIqu9"
      },
      "outputs": [],
      "source": []
    },
    {
      "cell_type": "code",
      "execution_count": null,
      "metadata": {
        "colab": {},
        "colab_type": "code",
        "id": "fjbb3tZcIqu_"
      },
      "outputs": [],
      "source": []
    },
    {
      "attachments": {},
      "cell_type": "markdown",
      "metadata": {
        "colab_type": "text",
        "id": "bAeTe2XqIqvB"
      },
      "source": [
        "### Scatter Plots in Matplotlib"
      ]
    },
    {
      "attachments": {},
      "cell_type": "markdown",
      "metadata": {
        "colab_type": "text",
        "id": "SAViZ_TYIqvB"
      },
      "source": [
        "**Challenge**: Has the size and complexity of LEGO sets increased over time based on the number of parts? Plot the average number of parts over time using a Matplotlib scatter plot. See if you can use the [scatter plot documentation](https://matplotlib.org/3.1.0/api/_as_gen/matplotlib.pyplot.scatter.html) before I show you the solution. Do you spot a trend in the chart? "
      ]
    },
    {
      "cell_type": "code",
      "execution_count": null,
      "metadata": {
        "colab": {},
        "colab_type": "code",
        "id": "EQNZ0D7JIqvB"
      },
      "outputs": [],
      "source": []
    },
    {
      "attachments": {},
      "cell_type": "markdown",
      "metadata": {
        "colab_type": "text",
        "id": "xK226Ip-IqvE"
      },
      "source": [
        "### Number of Sets per LEGO Theme"
      ]
    },
    {
      "attachments": {},
      "cell_type": "markdown",
      "metadata": {
        "colab_type": "text",
        "id": "VKHa1FePIqvE"
      },
      "source": [
        "LEGO has licensed many hit franchises from Harry Potter to Marvel Super Heros to many others. But which theme has the largest number of individual sets? "
      ]
    },
    {
      "cell_type": "code",
      "execution_count": null,
      "metadata": {
        "colab": {},
        "colab_type": "code",
        "id": "hOBcNrC9IqvE"
      },
      "outputs": [],
      "source": []
    },
    {
      "attachments": {},
      "cell_type": "markdown",
      "metadata": {
        "colab_type": "text",
        "id": "J-i6JULGIqvG"
      },
      "source": [
        "**Challenge** Use what you know about HTML markup and tags to display the database schema: https://i.imgur.com/Sg4lcjx.png"
      ]
    },
    {
      "attachments": {},
      "cell_type": "markdown",
      "metadata": {
        "colab_type": "text",
        "id": "27oDwiPHIqvH"
      },
      "source": []
    },
    {
      "attachments": {},
      "cell_type": "markdown",
      "metadata": {
        "colab_type": "text",
        "id": "J_0iuerKIqvG"
      },
      "source": [
        "### Database Schemas, Foreign Keys and Merging DataFrames\n",
        "\n",
        "The themes.csv file has the actual theme names. The sets .csv has <code>theme_ids</code> which link to the <code>id</code> column in the themes.csv. "
      ]
    },
    {
      "attachments": {},
      "cell_type": "markdown",
      "metadata": {
        "colab_type": "text",
        "id": "cp1tMW6oIqvH"
      },
      "source": [
        "**Challenge**: Explore the themes.csv. How is it structured? Search for the name 'Star Wars'. How many <code>id</code>s correspond to this name in the themes.csv? Now use these <code>id</code>s and find the corresponding the sets in the sets.csv (Hint: you'll need to look for matches in the <code>theme_id</code> column)"
      ]
    },
    {
      "cell_type": "code",
      "execution_count": null,
      "metadata": {
        "colab": {},
        "colab_type": "code",
        "id": "3uN3wN5sIqvH"
      },
      "outputs": [],
      "source": []
    },
    {
      "cell_type": "code",
      "execution_count": null,
      "metadata": {
        "colab": {},
        "colab_type": "code",
        "id": "xAO2XlQGIqvJ"
      },
      "outputs": [],
      "source": []
    },
    {
      "cell_type": "code",
      "execution_count": null,
      "metadata": {
        "colab": {},
        "colab_type": "code",
        "id": "xYEDlY-_IqvL"
      },
      "outputs": [],
      "source": []
    },
    {
      "cell_type": "code",
      "execution_count": null,
      "metadata": {
        "colab": {},
        "colab_type": "code",
        "id": "qBhckawNIqvN",
        "scrolled": true
      },
      "outputs": [],
      "source": []
    },
    {
      "cell_type": "code",
      "execution_count": null,
      "metadata": {
        "colab": {},
        "colab_type": "code",
        "id": "aqt07DSTIqvP",
        "scrolled": true
      },
      "outputs": [],
      "source": []
    },
    {
      "attachments": {},
      "cell_type": "markdown",
      "metadata": {
        "colab_type": "text",
        "id": "SmTCXWKKIqvQ"
      },
      "source": [
        "### Merging (i.e., Combining) DataFrames based on a Key\n"
      ]
    },
    {
      "cell_type": "code",
      "execution_count": null,
      "metadata": {
        "colab": {},
        "colab_type": "code",
        "id": "esKQULhcIqvR"
      },
      "outputs": [],
      "source": []
    },
    {
      "cell_type": "code",
      "execution_count": null,
      "metadata": {
        "colab": {},
        "colab_type": "code",
        "id": "i0LobgIvIqvT"
      },
      "outputs": [],
      "source": []
    },
    {
      "cell_type": "code",
      "execution_count": null,
      "metadata": {
        "colab": {},
        "colab_type": "code",
        "id": "I7UMP7VXIqvU"
      },
      "outputs": [],
      "source": []
    }
  ],
  "metadata": {
    "colab": {
      "name": "Lego Analysis for Course (start).ipynb",
      "provenance": []
    },
    "kernelspec": {
      "display_name": "Python 3",
      "language": "python",
      "name": "python3"
    },
    "language_info": {
      "codemirror_mode": {
        "name": "ipython",
        "version": 3
      },
      "file_extension": ".py",
      "mimetype": "text/x-python",
      "name": "python",
      "nbconvert_exporter": "python",
      "pygments_lexer": "ipython3",
      "version": "3.11.1"
    }
  },
  "nbformat": 4,
  "nbformat_minor": 0
}
